{
 "cells": [
  {
   "cell_type": "markdown",
   "metadata": {},
   "source": [
    "# Python Scripting Guide - Week 4\n",
    "\n",
    "**Aim**: The aim of this notebook is to store & practise working python code that will be used while learning the python scripting course on Coursera. "
   ]
  },
  {
   "cell_type": "markdown",
   "metadata": {},
   "source": [
    "### Datetime Module"
   ]
  },
  {
   "cell_type": "code",
   "execution_count": 2,
   "metadata": {},
   "outputs": [],
   "source": [
    "import datetime"
   ]
  },
  {
   "cell_type": "code",
   "execution_count": 5,
   "metadata": {},
   "outputs": [
    {
     "name": "stdout",
     "output_type": "stream",
     "text": [
      "2018-07-19\n"
     ]
    }
   ],
   "source": [
    "#Creating dates\n",
    "\n",
    "date = datetime.date(2018, 7, 19)\n",
    "print(date)"
   ]
  },
  {
   "cell_type": "code",
   "execution_count": 7,
   "metadata": {},
   "outputs": [],
   "source": [
    "#Today's date \n",
    "\n",
    "today = datetime.date.today()"
   ]
  },
  {
   "cell_type": "code",
   "execution_count": 8,
   "metadata": {},
   "outputs": [
    {
     "data": {
      "text/plain": [
       "True"
      ]
     },
     "execution_count": 8,
     "metadata": {},
     "output_type": "execute_result"
    }
   ],
   "source": [
    "#Comparing dates \n",
    "\n",
    "date  < today"
   ]
  },
  {
   "cell_type": "code",
   "execution_count": 10,
   "metadata": {},
   "outputs": [
    {
     "name": "stdout",
     "output_type": "stream",
     "text": [
      "59 days, 0:00:00\n"
     ]
    }
   ],
   "source": [
    "#Matematics on dates\n",
    "\n",
    "print(today - date)"
   ]
  },
  {
   "cell_type": "code",
   "execution_count": 11,
   "metadata": {},
   "outputs": [
    {
     "data": {
      "text/plain": [
       "59"
      ]
     },
     "execution_count": 11,
     "metadata": {},
     "output_type": "execute_result"
    }
   ],
   "source": [
    "diff = today - date \n",
    "diff.days"
   ]
  },
  {
   "cell_type": "markdown",
   "metadata": {},
   "source": [
    "**Practise Project**"
   ]
  },
  {
   "cell_type": "code",
   "execution_count": 15,
   "metadata": {},
   "outputs": [],
   "source": [
    "def name_to_number(name):\n",
    "    \n",
    "    if name == \"rock\":\n",
    "        \n",
    "        return 0\n",
    "    \n",
    "    elif name == \"Spock\":\n",
    "        \n",
    "        return 1\n",
    "    \n",
    "    elif name == \"paper\":\n",
    "        \n",
    "        return 2\n",
    "    \n",
    "    elif name == \"lizard\":\n",
    "        \n",
    "        return 3\n",
    "    \n",
    "    elif name == \"scissors\":\n",
    "        \n",
    "        return 4\n",
    "    \n",
    "    else:\n",
    "        \n",
    "        return \"You have entered something wrong\""
   ]
  },
  {
   "cell_type": "code",
   "execution_count": 17,
   "metadata": {},
   "outputs": [],
   "source": [
    "def number_to_name(number):\n",
    "    \n",
    "    if number == 0:\n",
    "        \n",
    "        return \"rock\"\n",
    "    \n",
    "    elif number == 1:\n",
    "        \n",
    "        return \"Spock\"\n",
    "    \n",
    "    elif number == 2:\n",
    "        \n",
    "        return \"paper\"\n",
    "    \n",
    "    elif number == 3:\n",
    "        \n",
    "        return \"lizard\"\n",
    "    \n",
    "    elif number == 4:\n",
    "        \n",
    "        return \"scissors\"\n",
    "    \n",
    "    else:\n",
    "        \n",
    "        return \"Please enter a number between 0 and 4\""
   ]
  },
  {
   "cell_type": "code",
   "execution_count": 45,
   "metadata": {},
   "outputs": [],
   "source": [
    "import random"
   ]
  },
  {
   "cell_type": "code",
   "execution_count": 70,
   "metadata": {},
   "outputs": [],
   "source": [
    "def rpsls(player_choice):\n",
    "    \n",
    "    print(\"Player chooses\" + \" \" + str(player_choice))\n",
    "    choice = (number_to_name(random.choice(range(0,4))))\n",
    "    print(\"Computer chooses\" + \" \" + (choice))\n",
    "    \n",
    "    player = name_to_number(player_choice)\n",
    "    comp = name_to_number(choice)\n",
    "    \n",
    "    if player == 0:\n",
    "        \n",
    "        if comp == 3 or comp == 4:\n",
    "            \n",
    "            return \"Player wins\"\n",
    "        \n",
    "        elif comp == 1 or comp == 2:\n",
    "            \n",
    "            return \"Computer wins\"\n",
    "        \n",
    "        elif comp == 0:\n",
    "\n",
    "            return \"Nobody wins\""
   ]
  },
  {
   "cell_type": "code",
   "execution_count": 73,
   "metadata": {},
   "outputs": [
    {
     "name": "stdout",
     "output_type": "stream",
     "text": [
      "Player chooses rock\n",
      "Computer chooses rock\n"
     ]
    },
    {
     "data": {
      "text/plain": [
       "'Nobody wins'"
      ]
     },
     "execution_count": 73,
     "metadata": {},
     "output_type": "execute_result"
    }
   ],
   "source": [
    "rpsls(\"rock\")"
   ]
  },
  {
   "cell_type": "markdown",
   "metadata": {},
   "source": [
    "### **Project Assignment**"
   ]
  },
  {
   "cell_type": "code",
   "execution_count": 144,
   "metadata": {},
   "outputs": [],
   "source": [
    "import datetime\n",
    "\n",
    "\n",
    "def days_in_month(year = range(datetime.MINYEAR, datetime.MAXYEAR), month = range(1,13)):\n",
    "    \n",
    "    \"\"\"\n",
    "       \n",
    "    Function that returns the number of days in a month\n",
    "    \n",
    "    \"\"\"\n",
    "    \n",
    "    #Subracting the difference between future month and input month for first 11 months\n",
    "    \n",
    "    if month <= 11:\n",
    "        \n",
    "        date = datetime.date(year,month+1, 1) - datetime.date(year, month, 1)\n",
    "        \n",
    "    #Subracting the difference between future month and input month for 12th month\n",
    "        \n",
    "    elif month == 12:\n",
    "        \n",
    "        date = datetime.date(year+1,1, 1) - datetime.date(year, month, 1)\n",
    "\n",
    "\n",
    "    return date.days\n",
    "\n",
    "\"\"\"\n",
    "\n",
    "Function to check if the date is valid or not\n",
    "\n",
    "\"\"\"\n",
    "\n",
    "def is_valid_date(year, month, day):\n",
    "    \n",
    "    \"\"\"\n",
    "    \n",
    "    Function that checks if the date is valid or not\n",
    "    \n",
    "    \"\"\"\n",
    "    \n",
    "    #Conditions to check if the date is valid or not\n",
    "    \n",
    "    if (year >= datetime.MINYEAR and year <= datetime.MAXYEAR) and (month >= 1 and month <= 12) and (day <= days_in_month(year,month) and day > 0):\n",
    "        \n",
    "        return True\n",
    "    \n",
    "    else:\n",
    "        \n",
    "        return False\n",
    "\n",
    "def days_between(year1, month1, day1, year2, month2, day2):\n",
    "    \n",
    "    \"\"\"\n",
    "    \n",
    "    Function that returns the number of days between two dates\n",
    "    \n",
    "    \"\"\"\n",
    "    \n",
    "    if (is_valid_date(year1, month1, day1) == False) or (is_valid_date(year2, month2, day2) == False):\n",
    "        \n",
    "        return 0\n",
    "    \n",
    "    if datetime.date(year2, month2, day2) < datetime.date(year1, month1, day1):\n",
    "        \n",
    "        return 0\n",
    "    \n",
    "    else:\n",
    "        \n",
    "        return print((datetime.date(year2, month2, day2) - datetime.date(year1, month1, day1)).days)\n",
    "\n",
    "def age_in_days(year, month, day):\n",
    "    \n",
    "    \"\"\"\n",
    "    \n",
    "    Function that returns a person's age in days\n",
    "    \n",
    "    \"\"\"\n",
    "    \n",
    "    age = datetime.date(year, month, day)\n",
    "    today = datetime.date.today()\n",
    "    \n",
    "    if is_valid_date(year, month, day) == False:\n",
    "        \n",
    "        return 0\n",
    "    \n",
    "    if age > today:\n",
    "        \n",
    "        return 0\n",
    "    \n",
    "    else:\n",
    "        \n",
    "        day_age = today - age\n",
    "        \n",
    "        return day_age.days"
   ]
  }
 ],
 "metadata": {
  "kernelspec": {
   "display_name": "Python 3",
   "language": "python",
   "name": "python3"
  },
  "language_info": {
   "codemirror_mode": {
    "name": "ipython",
    "version": 3
   },
   "file_extension": ".py",
   "mimetype": "text/x-python",
   "name": "python",
   "nbconvert_exporter": "python",
   "pygments_lexer": "ipython3",
   "version": "3.6.1"
  }
 },
 "nbformat": 4,
 "nbformat_minor": 2
}
