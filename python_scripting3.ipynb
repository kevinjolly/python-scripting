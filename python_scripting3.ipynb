{
 "cells": [
  {
   "cell_type": "markdown",
   "metadata": {},
   "source": [
    "# Python Scripting Guide - Week 3\n",
    "\n",
    "**Aim**: The aim of this notebook is to store & practise working python code that will be used while learning the python scripting course on Coursera. "
   ]
  },
  {
   "cell_type": "markdown",
   "metadata": {},
   "source": [
    "**Logical Expressions**"
   ]
  },
  {
   "cell_type": "code",
   "execution_count": 2,
   "metadata": {},
   "outputs": [
    {
     "name": "stdout",
     "output_type": "stream",
     "text": [
      "True False\n"
     ]
    }
   ],
   "source": [
    "val1 = True \n",
    "val2 = False\n",
    "print(val1, val2)"
   ]
  },
  {
   "cell_type": "markdown",
   "metadata": {},
   "source": [
    "**Logical Not**"
   ]
  },
  {
   "cell_type": "code",
   "execution_count": 3,
   "metadata": {},
   "outputs": [
    {
     "name": "stdout",
     "output_type": "stream",
     "text": [
      "False\n"
     ]
    }
   ],
   "source": [
    "print(not val1)"
   ]
  },
  {
   "cell_type": "markdown",
   "metadata": {},
   "source": [
    "**Logical And**"
   ]
  },
  {
   "cell_type": "code",
   "execution_count": 4,
   "metadata": {},
   "outputs": [
    {
     "name": "stdout",
     "output_type": "stream",
     "text": [
      "False\n"
     ]
    }
   ],
   "source": [
    "print(val1 and val2)"
   ]
  },
  {
   "cell_type": "markdown",
   "metadata": {},
   "source": [
    "**Logical Or**"
   ]
  },
  {
   "cell_type": "code",
   "execution_count": 5,
   "metadata": {},
   "outputs": [
    {
     "name": "stdout",
     "output_type": "stream",
     "text": [
      "True\n"
     ]
    }
   ],
   "source": [
    "print(val1 or val2)"
   ]
  },
  {
   "cell_type": "markdown",
   "metadata": {},
   "source": [
    "**Comparisons**"
   ]
  },
  {
   "cell_type": "code",
   "execution_count": 6,
   "metadata": {},
   "outputs": [
    {
     "data": {
      "text/plain": [
       "True"
      ]
     },
     "execution_count": 6,
     "metadata": {},
     "output_type": "execute_result"
    }
   ],
   "source": [
    "10>5\n",
    "10<5\n",
    "10>=3\n",
    "10<=3\n",
    "10==3\n",
    "10!=3"
   ]
  },
  {
   "cell_type": "code",
   "execution_count": 7,
   "metadata": {},
   "outputs": [
    {
     "data": {
      "text/plain": [
       "True"
      ]
     },
     "execution_count": 7,
     "metadata": {},
     "output_type": "execute_result"
    }
   ],
   "source": [
    "\"a\" == \"a\""
   ]
  },
  {
   "cell_type": "code",
   "execution_count": 9,
   "metadata": {},
   "outputs": [
    {
     "data": {
      "text/plain": [
       "False"
      ]
     },
     "execution_count": 9,
     "metadata": {},
     "output_type": "execute_result"
    }
   ],
   "source": [
    "\"A\" == \"a\""
   ]
  },
  {
   "cell_type": "markdown",
   "metadata": {},
   "source": [
    "**Conditionals**"
   ]
  },
  {
   "cell_type": "markdown",
   "metadata": {},
   "source": [
    "if condition == True:\n",
    "    \n",
    "    do something\n",
    "    \n",
    "elif condition == True:\n",
    "    \n",
    "    do something else\n",
    "    \n",
    "else:\n",
    "    \n",
    "    do something"
   ]
  },
  {
   "cell_type": "markdown",
   "metadata": {},
   "source": [
    "**Documentation**"
   ]
  },
  {
   "cell_type": "markdown",
   "metadata": {},
   "source": [
    "https://py3.codeskulptor.org/docs.html"
   ]
  },
  {
   "cell_type": "markdown",
   "metadata": {},
   "source": [
    "**Standards for Coding in Python**\n",
    "\n",
    "1. Docstrings at the start of the program and at below every def: function statement\n",
    "2. Comment regularily \n",
    "3. Global variables must be avoided at all costs, but global constants are allowed. GLOBAL_CONST = 1.222 must always be in capital letters\n",
    "4. Variable & function names should be at least 3 letters and lower case \n",
    "5. Never use existing python function names inside a function. \n",
    "6. Keep function arguments and local variables to a bare minimal number and if a local variable is not used use the 'dummy_' prefix."
   ]
  },
  {
   "cell_type": "markdown",
   "metadata": {},
   "source": [
    "### Practise Exercises"
   ]
  },
  {
   "cell_type": "markdown",
   "metadata": {},
   "source": [
    "**Problem 1**: Even number function"
   ]
  },
  {
   "cell_type": "code",
   "execution_count": 11,
   "metadata": {},
   "outputs": [],
   "source": [
    "def is_even(number):\n",
    "    \n",
    "    if number % 2 == 0:\n",
    "        \n",
    "        return True\n",
    "    \n",
    "    else:\n",
    "        \n",
    "        return False"
   ]
  },
  {
   "cell_type": "code",
   "execution_count": 16,
   "metadata": {},
   "outputs": [
    {
     "data": {
      "text/plain": [
       "True"
      ]
     },
     "execution_count": 16,
     "metadata": {},
     "output_type": "execute_result"
    }
   ],
   "source": [
    "is_even(2)"
   ]
  },
  {
   "cell_type": "markdown",
   "metadata": {},
   "source": [
    "**Problem 2**: Cool names"
   ]
  },
  {
   "cell_type": "code",
   "execution_count": 17,
   "metadata": {},
   "outputs": [],
   "source": [
    "def is_cool(name):\n",
    "    \n",
    "    if name == \"Joe\" or name == \"John\" or name == \"Stephen\":\n",
    "        \n",
    "        return True\n",
    "    \n",
    "    else:\n",
    "        \n",
    "        return False"
   ]
  },
  {
   "cell_type": "code",
   "execution_count": 18,
   "metadata": {},
   "outputs": [
    {
     "data": {
      "text/plain": [
       "False"
      ]
     },
     "execution_count": 18,
     "metadata": {},
     "output_type": "execute_result"
    }
   ],
   "source": [
    "is_cool(\"Kevin\")"
   ]
  },
  {
   "cell_type": "markdown",
   "metadata": {},
   "source": [
    "**Problem 3**: Lunch Time"
   ]
  },
  {
   "cell_type": "code",
   "execution_count": 22,
   "metadata": {},
   "outputs": [],
   "source": [
    "def is_lunchtime(hour, is_am):\n",
    "    \n",
    "    if is_am == True:\n",
    "        \n",
    "        if hour <= 12 and hour >= 11:\n",
    "            \n",
    "            return True\n",
    "        \n",
    "        elif hour > 12:\n",
    "            \n",
    "            print(\"Please enter a time lesser than 12\")\n",
    "        \n",
    "    else:\n",
    "        \n",
    "        print(\"Wrong time for lunch buddy\")"
   ]
  },
  {
   "cell_type": "code",
   "execution_count": 24,
   "metadata": {},
   "outputs": [
    {
     "data": {
      "text/plain": [
       "True"
      ]
     },
     "execution_count": 24,
     "metadata": {},
     "output_type": "execute_result"
    }
   ],
   "source": [
    "is_lunchtime(12, True)"
   ]
  },
  {
   "cell_type": "markdown",
   "metadata": {},
   "source": [
    "**Problem 4:** Leap year"
   ]
  },
  {
   "cell_type": "code",
   "execution_count": 25,
   "metadata": {},
   "outputs": [],
   "source": [
    "def is_leap_year(year):\n",
    "    \n",
    "    if year % 4 != 0:\n",
    "        \n",
    "        print(\"Not a leap year\")\n",
    "        \n",
    "    elif year % 100 != 0:\n",
    "        \n",
    "        print(\"it is a leap year\")\n",
    "        \n",
    "    elif year % 400 != 0:\n",
    "        \n",
    "        print(\"Not a leap year\")\n",
    "        \n",
    "    else:\n",
    "        \n",
    "        print(\"Leap year\")"
   ]
  },
  {
   "cell_type": "code",
   "execution_count": 28,
   "metadata": {},
   "outputs": [
    {
     "name": "stdout",
     "output_type": "stream",
     "text": [
      "it is a leap year\n"
     ]
    }
   ],
   "source": [
    "is_leap_year(2012)"
   ]
  },
  {
   "cell_type": "markdown",
   "metadata": {},
   "source": [
    "**Problem 5**: Interval Intersect"
   ]
  },
  {
   "cell_type": "code",
   "execution_count": 35,
   "metadata": {},
   "outputs": [],
   "source": [
    "def interval_intersect(a,b,c,d):\n",
    "    \n",
    "    for num in range(a, b+1):\n",
    "        \n",
    "        if num in range(c, d+1):\n",
    "            \n",
    "            return True\n",
    "        \n",
    "        else:\n",
    "        \n",
    "            return False"
   ]
  },
  {
   "cell_type": "code",
   "execution_count": 37,
   "metadata": {},
   "outputs": [
    {
     "data": {
      "text/plain": [
       "False"
      ]
     },
     "execution_count": 37,
     "metadata": {},
     "output_type": "execute_result"
    }
   ],
   "source": [
    "interval_intersect(1,3, 4,5)"
   ]
  },
  {
   "cell_type": "markdown",
   "metadata": {},
   "source": [
    "**Problem 6**: Name and age"
   ]
  },
  {
   "cell_type": "code",
   "execution_count": 38,
   "metadata": {},
   "outputs": [],
   "source": [
    "def name_and_age(name, age):\n",
    "    \n",
    "    if age < 0:\n",
    "        \n",
    "        print(\"Invalid age\")\n",
    "        \n",
    "    else:\n",
    "        \n",
    "        print((name) + \" \" + \"is\" + \" \" + str(age) + \" \"  + \"years old\")"
   ]
  },
  {
   "cell_type": "code",
   "execution_count": 41,
   "metadata": {},
   "outputs": [
    {
     "name": "stdout",
     "output_type": "stream",
     "text": [
      "Kevin is 23 years old\n"
     ]
    }
   ],
   "source": [
    "name_and_age(\"Kevin\", 23)"
   ]
  },
  {
   "cell_type": "markdown",
   "metadata": {},
   "source": [
    "**Problem 7**: Digits identifier "
   ]
  },
  {
   "cell_type": "code",
   "execution_count": 50,
   "metadata": {},
   "outputs": [],
   "source": [
    "def print_digits(number):\n",
    "    \n",
    "    if number < 0 or number >= 100:\n",
    "        \n",
    "        print(\"Invalid number\")\n",
    "        \n",
    "    else:\n",
    "        \n",
    "        number = str(number)\n",
    "        \n",
    "        print(\"The tens digit is\" + \" \" + (number[0]) + \" \" + \"and the ones digit is\" + \" \" + (number[1]))"
   ]
  },
  {
   "cell_type": "code",
   "execution_count": 51,
   "metadata": {},
   "outputs": [
    {
     "name": "stdout",
     "output_type": "stream",
     "text": [
      "The tens digit is 9 and the ones digit is 8\n"
     ]
    }
   ],
   "source": [
    "print_digits(98)"
   ]
  },
  {
   "cell_type": "markdown",
   "metadata": {},
   "source": [
    "**Problem 8:** Name Lookup"
   ]
  },
  {
   "cell_type": "code",
   "execution_count": 54,
   "metadata": {},
   "outputs": [],
   "source": [
    "def name_lookup(name):\n",
    "    \n",
    "    if name == \"Joe\":\n",
    "        \n",
    "        return \"Warren\"\n",
    "    \n",
    "    elif name == \"Scott\":\n",
    "        \n",
    "        return \"Rixner\"\n",
    "    \n",
    "    elif name == \"John\":\n",
    "    \n",
    "        return \"Greiner\"\n",
    "    \n",
    "    elif name == \"Stephen\":\n",
    "    \n",
    "        return \"Wong\"\n",
    "    \n",
    "    else:\n",
    "        \n",
    "        return \"Not an instructor\""
   ]
  },
  {
   "cell_type": "code",
   "execution_count": 55,
   "metadata": {},
   "outputs": [
    {
     "data": {
      "text/plain": [
       "'Not an instructor'"
      ]
     },
     "execution_count": 55,
     "metadata": {},
     "output_type": "execute_result"
    }
   ],
   "source": [
    "name_lookup(\"kevin\")"
   ]
  },
  {
   "cell_type": "markdown",
   "metadata": {},
   "source": [
    "**Problem 9**: pig latin"
   ]
  },
  {
   "cell_type": "code",
   "execution_count": 61,
   "metadata": {},
   "outputs": [],
   "source": [
    "def pig_latin(word):\n",
    "    \n",
    "    if word[0] == \"a\" or word[0] == \"e\" or word[0] == \"i\" or word[0] == \"o\" or word[0] == \"u\":\n",
    "        \n",
    "        word = word + \"way\"\n",
    "        \n",
    "    else:\n",
    "        \n",
    "        word = word[1:] + \"ay\"\n",
    "        \n",
    "    return word"
   ]
  },
  {
   "cell_type": "code",
   "execution_count": 63,
   "metadata": {},
   "outputs": [
    {
     "data": {
      "text/plain": [
       "'owlway'"
      ]
     },
     "execution_count": 63,
     "metadata": {},
     "output_type": "execute_result"
    }
   ],
   "source": [
    "pig_latin(\"owl\")"
   ]
  },
  {
   "cell_type": "markdown",
   "metadata": {},
   "source": [
    "**Problem 10:** Quadratic equation"
   ]
  },
  {
   "cell_type": "code",
   "execution_count": 79,
   "metadata": {},
   "outputs": [],
   "source": [
    "def smaller_root(a,b,c):\n",
    "    \n",
    "    if (b**2) - (4 * a * c)**0.5 > 0:\n",
    "        \n",
    "        value1 = ((-b) + ((b**2) - (4 * a * c))**0.5)/ 2 * a\n",
    "        value2 = ((-b) - ((b**2) - (4 * a * c))**0.5)/ 2 * a\n",
    "        \n",
    "    elif (b**2) - (4 * a * c)**0.5 < 0:\n",
    "        \n",
    "        value1 = None\n",
    "        value2 = None\n",
    "        print(\"Error no real solution\")\n",
    "        \n",
    "    elif (b**2) - (4 * a * c)**0.5 == 0:\n",
    "    \n",
    "        value1 = ((-b) + ((b**2) - (4 * a * c))**0.5)/ 2 * a\n",
    "        value2 = None\n",
    "        \n",
    "    return value1, value2"
   ]
  },
  {
   "cell_type": "code",
   "execution_count": 81,
   "metadata": {},
   "outputs": [
    {
     "data": {
      "text/plain": [
       "((-2.9999999999999996+4.795831523312719j),\n",
       " (-3.0000000000000004-4.795831523312719j))"
      ]
     },
     "execution_count": 81,
     "metadata": {},
     "output_type": "execute_result"
    }
   ],
   "source": [
    "smaller_root(2,3,4)"
   ]
  }
 ],
 "metadata": {
  "kernelspec": {
   "display_name": "Python 3",
   "language": "python",
   "name": "python3"
  },
  "language_info": {
   "codemirror_mode": {
    "name": "ipython",
    "version": 3
   },
   "file_extension": ".py",
   "mimetype": "text/x-python",
   "name": "python",
   "nbconvert_exporter": "python",
   "pygments_lexer": "ipython3",
   "version": "3.6.1"
  }
 },
 "nbformat": 4,
 "nbformat_minor": 2
}
